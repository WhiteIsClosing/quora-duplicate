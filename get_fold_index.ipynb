{
 "cells": [
  {
   "cell_type": "code",
   "execution_count": 1,
   "metadata": {
    "collapsed": true
   },
   "outputs": [],
   "source": [
    "import pandas as pd\n",
    "import numpy as np\n",
    "from sklearn import model_selection"
   ]
  },
  {
   "cell_type": "code",
   "execution_count": 2,
   "metadata": {
    "collapsed": true
   },
   "outputs": [],
   "source": [
    "x = pd.read_csv('../kaggle-quora/features/train_jaccard_magic_features.csv')"
   ]
  },
  {
   "cell_type": "code",
   "execution_count": 3,
   "metadata": {},
   "outputs": [
    {
     "data": {
      "text/html": [
       "<div>\n",
       "<table border=\"1\" class=\"dataframe\">\n",
       "  <thead>\n",
       "    <tr style=\"text-align: right;\">\n",
       "      <th></th>\n",
       "      <th>Unnamed: 0</th>\n",
       "      <th>word_match</th>\n",
       "      <th>word_match_2root</th>\n",
       "      <th>tfidf_word_match</th>\n",
       "      <th>shared_count</th>\n",
       "      <th>stops1_ratio</th>\n",
       "      <th>stops2_ratio</th>\n",
       "      <th>shared_2gram</th>\n",
       "      <th>cosine</th>\n",
       "      <th>words_hamming</th>\n",
       "      <th>...</th>\n",
       "      <th>who_both</th>\n",
       "      <th>q1_where</th>\n",
       "      <th>q2_where</th>\n",
       "      <th>where_both</th>\n",
       "      <th>q1_when</th>\n",
       "      <th>q2_when</th>\n",
       "      <th>when_both</th>\n",
       "      <th>q1_why</th>\n",
       "      <th>q2_why</th>\n",
       "      <th>why_both</th>\n",
       "    </tr>\n",
       "  </thead>\n",
       "  <tbody>\n",
       "    <tr>\n",
       "      <th>0</th>\n",
       "      <td>5</td>\n",
       "      <td>0.269175</td>\n",
       "      <td>0.518820</td>\n",
       "      <td>0.307692</td>\n",
       "      <td>4.0</td>\n",
       "      <td>0.875</td>\n",
       "      <td>0.777778</td>\n",
       "      <td>0.100000</td>\n",
       "      <td>0.488688</td>\n",
       "      <td>0.250000</td>\n",
       "      <td>...</td>\n",
       "      <td>0</td>\n",
       "      <td>0</td>\n",
       "      <td>0</td>\n",
       "      <td>0</td>\n",
       "      <td>0</td>\n",
       "      <td>0</td>\n",
       "      <td>0</td>\n",
       "      <td>0</td>\n",
       "      <td>0</td>\n",
       "      <td>0</td>\n",
       "    </tr>\n",
       "    <tr>\n",
       "      <th>1</th>\n",
       "      <td>7</td>\n",
       "      <td>0.385400</td>\n",
       "      <td>0.620806</td>\n",
       "      <td>0.333333</td>\n",
       "      <td>1.0</td>\n",
       "      <td>2.500</td>\n",
       "      <td>3.500000</td>\n",
       "      <td>0.071429</td>\n",
       "      <td>0.748695</td>\n",
       "      <td>0.111111</td>\n",
       "      <td>...</td>\n",
       "      <td>0</td>\n",
       "      <td>0</td>\n",
       "      <td>0</td>\n",
       "      <td>0</td>\n",
       "      <td>0</td>\n",
       "      <td>0</td>\n",
       "      <td>0</td>\n",
       "      <td>0</td>\n",
       "      <td>0</td>\n",
       "      <td>0</td>\n",
       "    </tr>\n",
       "    <tr>\n",
       "      <th>2</th>\n",
       "      <td>11</td>\n",
       "      <td>0.295045</td>\n",
       "      <td>0.543180</td>\n",
       "      <td>0.400000</td>\n",
       "      <td>2.0</td>\n",
       "      <td>1.250</td>\n",
       "      <td>1.666667</td>\n",
       "      <td>0.133333</td>\n",
       "      <td>0.726198</td>\n",
       "      <td>0.222222</td>\n",
       "      <td>...</td>\n",
       "      <td>0</td>\n",
       "      <td>0</td>\n",
       "      <td>0</td>\n",
       "      <td>0</td>\n",
       "      <td>0</td>\n",
       "      <td>0</td>\n",
       "      <td>0</td>\n",
       "      <td>0</td>\n",
       "      <td>0</td>\n",
       "      <td>0</td>\n",
       "    </tr>\n",
       "    <tr>\n",
       "      <th>3</th>\n",
       "      <td>12</td>\n",
       "      <td>0.500000</td>\n",
       "      <td>0.707107</td>\n",
       "      <td>1.000000</td>\n",
       "      <td>4.0</td>\n",
       "      <td>0.750</td>\n",
       "      <td>1.000000</td>\n",
       "      <td>0.307692</td>\n",
       "      <td>1.000000</td>\n",
       "      <td>0.125000</td>\n",
       "      <td>...</td>\n",
       "      <td>0</td>\n",
       "      <td>0</td>\n",
       "      <td>0</td>\n",
       "      <td>0</td>\n",
       "      <td>0</td>\n",
       "      <td>0</td>\n",
       "      <td>0</td>\n",
       "      <td>0</td>\n",
       "      <td>0</td>\n",
       "      <td>0</td>\n",
       "    </tr>\n",
       "    <tr>\n",
       "      <th>4</th>\n",
       "      <td>13</td>\n",
       "      <td>0.237908</td>\n",
       "      <td>0.487758</td>\n",
       "      <td>0.400000</td>\n",
       "      <td>2.0</td>\n",
       "      <td>0.750</td>\n",
       "      <td>1.000000</td>\n",
       "      <td>0.363636</td>\n",
       "      <td>0.521087</td>\n",
       "      <td>0.714286</td>\n",
       "      <td>...</td>\n",
       "      <td>0</td>\n",
       "      <td>0</td>\n",
       "      <td>0</td>\n",
       "      <td>0</td>\n",
       "      <td>0</td>\n",
       "      <td>0</td>\n",
       "      <td>0</td>\n",
       "      <td>0</td>\n",
       "      <td>0</td>\n",
       "      <td>0</td>\n",
       "    </tr>\n",
       "  </tbody>\n",
       "</table>\n",
       "<p>5 rows × 51 columns</p>\n",
       "</div>"
      ],
      "text/plain": [
       "   Unnamed: 0  word_match  word_match_2root  tfidf_word_match  shared_count  \\\n",
       "0           5    0.269175          0.518820          0.307692           4.0   \n",
       "1           7    0.385400          0.620806          0.333333           1.0   \n",
       "2          11    0.295045          0.543180          0.400000           2.0   \n",
       "3          12    0.500000          0.707107          1.000000           4.0   \n",
       "4          13    0.237908          0.487758          0.400000           2.0   \n",
       "\n",
       "   stops1_ratio  stops2_ratio  shared_2gram    cosine  words_hamming  \\\n",
       "0         0.875      0.777778      0.100000  0.488688       0.250000   \n",
       "1         2.500      3.500000      0.071429  0.748695       0.111111   \n",
       "2         1.250      1.666667      0.133333  0.726198       0.222222   \n",
       "3         0.750      1.000000      0.307692  1.000000       0.125000   \n",
       "4         0.750      1.000000      0.363636  0.521087       0.714286   \n",
       "\n",
       "     ...     who_both  q1_where  q2_where  where_both  q1_when  q2_when  \\\n",
       "0    ...            0         0         0           0        0        0   \n",
       "1    ...            0         0         0           0        0        0   \n",
       "2    ...            0         0         0           0        0        0   \n",
       "3    ...            0         0         0           0        0        0   \n",
       "4    ...            0         0         0           0        0        0   \n",
       "\n",
       "   when_both  q1_why  q2_why  why_both  \n",
       "0          0       0       0         0  \n",
       "1          0       0       0         0  \n",
       "2          0       0       0         0  \n",
       "3          0       0       0         0  \n",
       "4          0       0       0         0  \n",
       "\n",
       "[5 rows x 51 columns]"
      ]
     },
     "execution_count": 3,
     "metadata": {},
     "output_type": "execute_result"
    }
   ],
   "source": [
    "x.head()"
   ]
  },
  {
   "cell_type": "code",
   "execution_count": 4,
   "metadata": {},
   "outputs": [
    {
     "data": {
      "text/plain": [
       "(780486, 51)"
      ]
     },
     "execution_count": 4,
     "metadata": {},
     "output_type": "execute_result"
    }
   ],
   "source": [
    "x.shape"
   ]
  },
  {
   "cell_type": "code",
   "execution_count": 5,
   "metadata": {
    "collapsed": true
   },
   "outputs": [],
   "source": [
    "y = pd.read_csv('../kaggle-quora/data/y_tran_oversampled.csv')"
   ]
  },
  {
   "cell_type": "code",
   "execution_count": 22,
   "metadata": {},
   "outputs": [
    {
     "data": {
      "text/plain": [
       "(780486, 1)"
      ]
     },
     "execution_count": 22,
     "metadata": {},
     "output_type": "execute_result"
    }
   ],
   "source": [
    "y.shape"
   ]
  },
  {
   "cell_type": "code",
   "execution_count": 27,
   "metadata": {
    "collapsed": true
   },
   "outputs": [],
   "source": [
    "skf = model_selection.StratifiedKFold(n_splits=3)\n",
    "folds = skf.split(x, y['0'])\n",
    "_, fold1 = folds.next()\n",
    "_, fold2 = folds.next()\n",
    "_, validation_idx = folds.next()"
   ]
  },
  {
   "cell_type": "code",
   "execution_count": 12,
   "metadata": {
    "collapsed": true
   },
   "outputs": [],
   "source": [
    "pd.DataFrame(data=fold1).to_csv('./fold1_index.csv', index=False)\n",
    "pd.DataFrame(data=fold2).to_csv('./fold2_index.csv', index=False)\n",
    "pd.DataFrame(data=validation_idx).to_csv('./validation_index.csv', index=False)"
   ]
  },
  {
   "cell_type": "code",
   "execution_count": null,
   "metadata": {
    "collapsed": true
   },
   "outputs": [],
   "source": []
  }
 ],
 "metadata": {
  "kernelspec": {
   "display_name": "Python 2",
   "language": "python",
   "name": "python2"
  },
  "language_info": {
   "codemirror_mode": {
    "name": "ipython",
    "version": 2
   },
   "file_extension": ".py",
   "mimetype": "text/x-python",
   "name": "python",
   "nbconvert_exporter": "python",
   "pygments_lexer": "ipython2",
   "version": "2.7.10"
  }
 },
 "nbformat": 4,
 "nbformat_minor": 2
}

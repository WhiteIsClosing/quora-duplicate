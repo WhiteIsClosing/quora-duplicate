{
 "cells": [
  {
   "cell_type": "code",
   "execution_count": 1,
   "metadata": {
    "collapsed": true
   },
   "outputs": [],
   "source": [
    "import sys\n",
    "stdout = sys.stdout\n",
    "reload(sys)\n",
    "sys.setdefaultencoding('utf-8')\n",
    "sys.stdout = stdout\n",
    "\n",
    "import os\n",
    "import re\n",
    "import codecs\n",
    "import csv\n",
    "import numpy as np\n",
    "import pandas as pd\n",
    "\n",
    "from nltk.corpus import stopwords\n",
    "from nltk.stem import SnowballStemmer\n",
    "from string import punctuation\n",
    "\n",
    "from gensim.models import KeyedVectors\n",
    "from keras.preprocessing.text import Tokenizer\n",
    "from keras.preprocessing.sequence import pad_sequences\n",
    "from keras.layers import Dense, Input, LSTM, Embedding, Dropout, Activation\n",
    "from keras.layers.merge import concatenate\n",
    "from keras.models import Model\n",
    "from keras.layers.normalization import BatchNormalization\n",
    "from keras.callbacks import EarlyStopping, ModelCheckpoint"
   ]
  },
  {
   "cell_type": "code",
   "execution_count": 2,
   "metadata": {
    "collapsed": true
   },
   "outputs": [],
   "source": [
    "# Ref: https://www.kaggle.com/currie32/quora-question-pairs/the-importance-of-cleaning-text\n",
    "def text_to_wordlist(text, remove_stopwords=False, stem_words=False):\n",
    "    # Clean the text, with the option to remove stopwords and to stem words.\n",
    "    \n",
    "    # Convert words to lower case and split them\n",
    "    text = str(text).lower().split()\n",
    "\n",
    "    # Optionally, remove stop words\n",
    "    if remove_stopwords:\n",
    "        stops = set(stopwords.words(\"english\"))\n",
    "        text = [w for w in text if not w in stops]\n",
    "    \n",
    "    text = \" \".join(text)\n",
    "\n",
    "    # Clean the text\n",
    "    text = re.sub(r\"[^A-Za-z0-9^,!.\\/'+-=]\", \" \", text)\n",
    "    text = re.sub(r\"what's\", \"what is \", text)\n",
    "    text = re.sub(r\"\\'s\", \" \", text)\n",
    "    text = re.sub(r\"\\'ve\", \" have \", text)\n",
    "    text = re.sub(r\"can't\", \"cannot \", text)\n",
    "    text = re.sub(r\"n't\", \" not \", text)\n",
    "    text = re.sub(r\"i'm\", \"i am \", text)\n",
    "    text = re.sub(r\"\\'re\", \" are \", text)\n",
    "    text = re.sub(r\"\\'d\", \" would \", text)\n",
    "    text = re.sub(r\"\\'ll\", \" will \", text)\n",
    "    text = re.sub(r\",\", \" \", text)\n",
    "    text = re.sub(r\"\\.\", \" \", text)\n",
    "    text = re.sub(r\"!\", \" ! \", text)\n",
    "    text = re.sub(r\"\\/\", \" \", text)\n",
    "    text = re.sub(r\"\\^\", \" ^ \", text)\n",
    "    text = re.sub(r\"\\+\", \" + \", text)\n",
    "    text = re.sub(r\"\\-\", \" - \", text)\n",
    "    text = re.sub(r\"\\=\", \" = \", text)\n",
    "    text = re.sub(r\"'\", \" \", text)\n",
    "    text = re.sub(r\"(\\d+)(k)\", r\"\\g<1>000\", text)\n",
    "    text = re.sub(r\":\", \" : \", text)\n",
    "    text = re.sub(r\" e g \", \" eg \", text)\n",
    "    text = re.sub(r\" b g \", \" bg \", text)\n",
    "    text = re.sub(r\" u s \", \" american \", text)\n",
    "    text = re.sub(r\"\\0s\", \"0\", text)\n",
    "    text = re.sub(r\" 9 11 \", \"911\", text)\n",
    "    text = re.sub(r\"e - mail\", \"email\", text)\n",
    "    text = re.sub(r\"j k\", \"jk\", text)\n",
    "    text = re.sub(r\"\\s{2,}\", \" \", text)\n",
    "    \n",
    "    # Optionally, shorten words to their stems\n",
    "    if stem_words:\n",
    "        text = text.split()\n",
    "        stemmer = SnowballStemmer('english')\n",
    "        stemmed_words = [stemmer.stem(word) for word in text]\n",
    "        text = \" \".join(stemmed_words)\n",
    "    \n",
    "    # Return a list of words\n",
    "    return(text)"
   ]
  },
  {
   "cell_type": "code",
   "execution_count": 3,
   "metadata": {
    "collapsed": true
   },
   "outputs": [],
   "source": [
    "BASE_DIR = './'\n",
    "TRAIN_DATA_FILE = BASE_DIR + 'train.csv'\n",
    "TEST_DATA_FILE = BASE_DIR + 'test.csv'\n",
    "EMBEDDING_FILE = './' + 'GoogleNews-vectors-negative300.bin'"
   ]
  },
  {
   "cell_type": "markdown",
   "metadata": {},
   "source": [
    "# Preprocessing Training Data"
   ]
  },
  {
   "cell_type": "code",
   "execution_count": 4,
   "metadata": {
    "collapsed": false
   },
   "outputs": [
    {
     "name": "stdout",
     "output_type": "stream",
     "text": [
      "   id  qid1  qid2                                          question1  \\\n",
      "0   0     1     2  What is the step by step guide to invest in sh...   \n",
      "1   1     3     4  What is the story of Kohinoor (Koh-i-Noor) Dia...   \n",
      "2   2     5     6  How can I increase the speed of my internet co...   \n",
      "3   3     7     8  Why am I mentally very lonely? How can I solve...   \n",
      "4   4     9    10  Which one dissolve in water quikly sugar, salt...   \n",
      "\n",
      "                                           question2  is_duplicate  \n",
      "0  What is the step by step guide to invest in sh...             0  \n",
      "1  What would happen if the Indian government sto...             0  \n",
      "2  How can Internet speed be increased by hacking...             0  \n",
      "3  Find the remainder when [math]23^{24}[/math] i...             0  \n",
      "4            Which fish would survive in salt water?             0  \n",
      "404290\n"
     ]
    }
   ],
   "source": [
    "df = pd.read_csv(TRAIN_DATA_FILE, delimiter=',', encoding='utf-8')\n",
    "print df.head()\n",
    "print len(df.iloc[:, 3])"
   ]
  },
  {
   "cell_type": "code",
   "execution_count": 5,
   "metadata": {
    "collapsed": false
   },
   "outputs": [
    {
     "name": "stdout",
     "output_type": "stream",
     "text": [
      "<type 'list'>\n",
      "Number of questions in train.csv: 404290\n"
     ]
    }
   ],
   "source": [
    "texts_1 = map(text_to_wordlist, df.iloc[:, 3])\n",
    "texts_2 = map(text_to_wordlist, df.iloc[:, 4])\n",
    "labels = map(text_to_wordlist, df.iloc[:, 5])\n",
    "print type(texts_1)\n",
    "print 'Number of questions in train.csv: {}'.format(len(texts_1))"
   ]
  },
  {
   "cell_type": "code",
   "execution_count": 6,
   "metadata": {
    "collapsed": true
   },
   "outputs": [],
   "source": [
    "labels = np.array(labels).astype(np.float)"
   ]
  },
  {
   "cell_type": "markdown",
   "metadata": {},
   "source": [
    "# Preprocessing Test Data"
   ]
  },
  {
   "cell_type": "code",
   "execution_count": 7,
   "metadata": {
    "collapsed": false
   },
   "outputs": [
    {
     "name": "stdout",
     "output_type": "stream",
     "text": [
      "  \"test_id\"                                        \"question1\"  \\\n",
      "0         0  \"How does the Surface Pro himself 4 compare wi...   \n",
      "1         1  \"Should I have a hair transplant at age 24? Ho...   \n",
      "2         2  \"What but is the best way to send money from C...   \n",
      "3         3                      \"Which food not emulsifiers?\"   \n",
      "4         4               \"How \"\"aberystwyth\"\" start reading?\"   \n",
      "\n",
      "                                         \"question2\"  \n",
      "0  \"Why did Microsoft choose core m3 and not core...  \n",
      "1      \"How much cost does hair transplant require?\"  \n",
      "2                    \"What you send money to China?\"  \n",
      "3                                \"What foods fibre?\"  \n",
      "4                   \"How their can I start reading?\"  \n",
      "1566062\n"
     ]
    }
   ],
   "source": [
    "test_df = pd.read_csv(TEST_DATA_FILE, delimiter=',', encoding='utf-8', quoting=3, error_bad_lines=False)\n",
    "print test_df.head()\n",
    "print len(test_df.iloc[:, 1])"
   ]
  },
  {
   "cell_type": "code",
   "execution_count": 8,
   "metadata": {
    "collapsed": false
   },
   "outputs": [
    {
     "name": "stdout",
     "output_type": "stream",
     "text": [
      "<type 'list'>\n",
      "Number of questions in test.csv: 1566062\n"
     ]
    }
   ],
   "source": [
    "test_texts_1 = map(text_to_wordlist, test_df.iloc[:, 1])\n",
    "test_texts_2 = map(text_to_wordlist, test_df.iloc[:, 2])\n",
    "test_ids = map(text_to_wordlist, test_df.iloc[:, 0])\n",
    "print type(test_texts_1)\n",
    "print 'Number of questions in test.csv: {}'.format(len(test_texts_1))"
   ]
  },
  {
   "cell_type": "markdown",
   "metadata": {},
   "source": [
    "# Tokenizing, sequencing data"
   ]
  },
  {
   "cell_type": "code",
   "execution_count": 9,
   "metadata": {
    "collapsed": true
   },
   "outputs": [],
   "source": [
    "MAX_SEQUENCE_LENGTH = 30\n",
    "MAX_NB_WORDS = 200000 # Default 200,000\n",
    "EMBEDDING_DIM = 300"
   ]
  },
  {
   "cell_type": "code",
   "execution_count": 10,
   "metadata": {
    "collapsed": false
   },
   "outputs": [
    {
     "name": "stdout",
     "output_type": "stream",
     "text": [
      "Tokenizing...\n",
      "Sequencing...\n"
     ]
    },
    {
     "name": "stderr",
     "output_type": "stream",
     "text": [
      "IOPub data rate exceeded.\n",
      "The notebook server will temporarily stop sending output\n",
      "to the client in order to avoid crashing it.\n",
      "To change this limit, set the config variable\n",
      "`--NotebookApp.iopub_data_rate_limit`.\n"
     ]
    }
   ],
   "source": [
    "print 'Tokenizing...'\n",
    "tokenizer = Tokenizer(num_words=MAX_NB_WORDS)\n",
    "tokenizer.fit_on_texts(texts_1 + texts_2 + test_texts_1 + test_texts_2)\n",
    "\n",
    "print 'Sequencing...'\n",
    "sequences_1 = tokenizer.texts_to_sequences(texts_1)\n",
    "sequences_2 = tokenizer.texts_to_sequences(texts_2)\n",
    "test_sequences_1 = tokenizer.texts_to_sequences(test_texts_1)\n",
    "test_sequences_2 = tokenizer.texts_to_sequences(test_texts_2)\n",
    "\n",
    "print sequences_1"
   ]
  },
  {
   "cell_type": "code",
   "execution_count": 11,
   "metadata": {
    "collapsed": false
   },
   "outputs": [
    {
     "name": "stdout",
     "output_type": "stream",
     "text": [
      "Found 118523 unique tokens\n",
      "('Shape of data tensor:', (404290, 30))\n",
      "('Shape of label tensor:', (404290,))\n"
     ]
    }
   ],
   "source": [
    "word_index = tokenizer.word_index # 115,300\n",
    "print('Found %s unique tokens' % len(word_index))\n",
    "\n",
    "data_1 = pad_sequences(sequences_1, maxlen=MAX_SEQUENCE_LENGTH)\n",
    "data_2 = pad_sequences(sequences_2, maxlen=MAX_SEQUENCE_LENGTH)\n",
    "labels = np.array(labels)\n",
    "print('Shape of data tensor:', data_1.shape)\n",
    "print('Shape of label tensor:', labels.shape)\n",
    "\n",
    "test_data_1 = pad_sequences(test_sequences_1, maxlen=MAX_SEQUENCE_LENGTH)\n",
    "test_data_2 = pad_sequences(test_sequences_2, maxlen=MAX_SEQUENCE_LENGTH)\n",
    "test_ids = np.array(test_ids)"
   ]
  },
  {
   "cell_type": "markdown",
   "metadata": {},
   "source": [
    "# Prepare Embeddings"
   ]
  },
  {
   "cell_type": "code",
   "execution_count": 12,
   "metadata": {
    "collapsed": false
   },
   "outputs": [
    {
     "name": "stdout",
     "output_type": "stream",
     "text": [
      "Indexing word vectors\n",
      "Found 3000000 word vectors of word2vec\n"
     ]
    }
   ],
   "source": [
    "print('Indexing word vectors')\n",
    "word2vec = KeyedVectors.load_word2vec_format(EMBEDDING_FILE, binary=True)\n",
    "print('Found %s word vectors of word2vec' % len(word2vec.vocab))"
   ]
  },
  {
   "cell_type": "code",
   "execution_count": 13,
   "metadata": {
    "collapsed": false
   },
   "outputs": [
    {
     "name": "stdout",
     "output_type": "stream",
     "text": [
      "nb_words:  118524\n",
      "embedding_matrix:  (118524, 300)\n",
      "Null word embeddings: 60340\n"
     ]
    }
   ],
   "source": [
    "nb_words = min(MAX_NB_WORDS, len(word_index))+1 # 115,300\n",
    "print 'nb_words: ', nb_words\n",
    "\n",
    "embedding_matrix = np.zeros((nb_words, EMBEDDING_DIM)) # (115301, 300)\n",
    "print 'embedding_matrix: ', embedding_matrix.shape\n",
    "\n",
    "for word, i in word_index.items():\n",
    "    if word in word2vec.vocab:\n",
    "        embedding_matrix[i] = word2vec.word_vec(word)\n",
    "        \n",
    "print('Null word embeddings: %d' % np.sum(np.sum(embedding_matrix, axis=1) == 0))"
   ]
  },
  {
   "cell_type": "markdown",
   "metadata": {
    "collapsed": true
   },
   "source": [
    "# Train/Test Split"
   ]
  },
  {
   "cell_type": "code",
   "execution_count": 14,
   "metadata": {
    "collapsed": true
   },
   "outputs": [],
   "source": [
    "VALIDATION_SPLIT = 0.15\n",
    "re_weight = True # Whether to re-weight classes to fit the 17.5% share in test set.\n",
    "\n",
    "# Index of train/validation set\n",
    "perm = np.random.permutation(len(data_1))\n",
    "idx_train = perm[:int(len(data_1)*(1-VALIDATION_SPLIT))]\n",
    "idx_val = perm[int(len(data_1)*(1-VALIDATION_SPLIT)):]\n",
    "\n",
    "# Training set.\n",
    "data_1_train = np.vstack((data_1[idx_train], data_2[idx_train]))\n",
    "data_2_train = np.vstack((data_2[idx_train], data_1[idx_train]))\n",
    "labels_train = np.concatenate((labels[idx_train], labels[idx_train]))\n",
    "\n",
    "# Validation set.\n",
    "data_1_val = np.vstack((data_1[idx_val], data_2[idx_val]))\n",
    "data_2_val = np.vstack((data_2[idx_val], data_1[idx_val]))\n",
    "labels_val = np.concatenate((labels[idx_val], labels[idx_val]))\n",
    "\n",
    "\n",
    "weight_val = np.ones(len(labels_val))\n",
    "if re_weight:\n",
    "    weight_val *= 0.472001959\n",
    "    weight_val[labels_val == 0] = 1.309028344"
   ]
  },
  {
   "cell_type": "markdown",
   "metadata": {
    "collapsed": true
   },
   "source": [
    "# Define the Model"
   ]
  },
  {
   "cell_type": "code",
   "execution_count": 15,
   "metadata": {
    "collapsed": true
   },
   "outputs": [],
   "source": [
    "# Embedding Layer.\n",
    "embedding_layer = Embedding( \\\n",
    "                            nb_words, \\\n",
    "                            EMBEDDING_DIM, \\\n",
    "                            weights=[embedding_matrix], \\\n",
    "                            input_length=MAX_SEQUENCE_LENGTH, \\\n",
    "                            trainable=False \\\n",
    "                           )\n",
    "# Inputing sequence of 30 integers, between 1 and 115,300.\n",
    "# nb_words = 115,300, input dimension\n",
    "# EMBEDDING_DIM = 300, output dimension\n",
    "# input_length = 30, length of sequence\n",
    "\n",
    "# LSTM Layer.\n",
    "shared_lstm_layer = LSTM(175, dropout=0.20, recurrent_dropout=0.20)"
   ]
  },
  {
   "cell_type": "code",
   "execution_count": 16,
   "metadata": {
    "collapsed": true
   },
   "outputs": [],
   "source": [
    "# Question 1 input layer .\n",
    "sequence_1_input = Input(shape=(MAX_SEQUENCE_LENGTH,), dtype='int32') # MAX_SEQUENCE_LENGTH = len of padded seq = 30\n",
    "embedded_sequences_1 = embedding_layer(sequence_1_input)\n",
    "x1 = shared_lstm_layer(embedded_sequences_1)"
   ]
  },
  {
   "cell_type": "code",
   "execution_count": 17,
   "metadata": {
    "collapsed": true
   },
   "outputs": [],
   "source": [
    "# Question 2 input layer.\n",
    "sequence_2_input = Input(shape=(MAX_SEQUENCE_LENGTH,), dtype='int32')\n",
    "embedded_sequences_2 = embedding_layer(sequence_2_input)\n",
    "x2 = shared_lstm_layer(embedded_sequences_2)"
   ]
  },
  {
   "cell_type": "code",
   "execution_count": 18,
   "metadata": {
    "collapsed": true
   },
   "outputs": [],
   "source": [
    "# Merging 2 layers. \n",
    "# Add 1 dropout, batch norm. layer\n",
    "# Add another 1 activation, dropout, batch norm. layer\n",
    "\n",
    "merged = concatenate([x1, x2])\n",
    "merged = Dropout(0.20)(merged)\n",
    "merged = BatchNormalization()(merged)\n",
    "merged = Dense(100, activation='relu')(merged)\n",
    "merged = Dropout(0.20)(merged)\n",
    "merged = BatchNormalization()(merged)\n",
    "preds = Dense(1, activation='sigmoid')(merged) # Output layer.\n",
    "\n",
    "# Compile the model.\n",
    "model = Model(inputs=[sequence_1_input, sequence_2_input], \\\n",
    "              outputs=preds)\n",
    "model.compile(loss='binary_crossentropy', \\\n",
    "              optimizer='nadam', \\\n",
    "              metrics=['acc'])"
   ]
  },
  {
   "cell_type": "code",
   "execution_count": 19,
   "metadata": {
    "collapsed": true
   },
   "outputs": [],
   "source": [
    "if re_weight:\n",
    "    class_weight = {0: 1.309028344, 1: 0.472001959}\n",
    "else:\n",
    "    class_weight = None"
   ]
  },
  {
   "cell_type": "code",
   "execution_count": 20,
   "metadata": {
    "collapsed": true
   },
   "outputs": [],
   "source": [
    "# Setup some history recording variables.\n",
    "\n",
    "STAMP = 'lstm_%d_%d_%.2f_%.2f'%(175, 100, 0.2, 0.2)\n",
    "early_stopping = EarlyStopping(monitor='val_loss', patience=3)\n",
    "bst_model_path = STAMP + '.h5'\n",
    "model_checkpoint = ModelCheckpoint(bst_model_path, save_best_only=True, save_weights_only=True)"
   ]
  },
  {
   "cell_type": "code",
   "execution_count": 21,
   "metadata": {
    "collapsed": false
   },
   "outputs": [
    {
     "name": "stdout",
     "output_type": "stream",
     "text": [
      "Train on 687292 samples, validate on 121288 samples\n",
      "Epoch 1/200\n",
      "687292/687292 [==============================] - 50s - loss: 0.4129 - acc: 0.6862 - val_loss: 0.3673 - val_acc: 0.6665\n",
      "Epoch 2/200\n",
      "687292/687292 [==============================] - 50s - loss: 0.3466 - acc: 0.7183 - val_loss: 0.3265 - val_acc: 0.7189\n",
      "Epoch 3/200\n",
      "687292/687292 [==============================] - 50s - loss: 0.3250 - acc: 0.7383 - val_loss: 0.3078 - val_acc: 0.7695\n",
      "Epoch 4/200\n",
      "687292/687292 [==============================] - 50s - loss: 0.3093 - acc: 0.7527 - val_loss: 0.2964 - val_acc: 0.7812\n",
      "Epoch 5/200\n",
      "687292/687292 [==============================] - 51s - loss: 0.2969 - acc: 0.7653 - val_loss: 0.2902 - val_acc: 0.7849\n",
      "Epoch 6/200\n",
      "687292/687292 [==============================] - 51s - loss: 0.2866 - acc: 0.7760 - val_loss: 0.2802 - val_acc: 0.7928\n",
      "Epoch 7/200\n",
      "687292/687292 [==============================] - 50s - loss: 0.2777 - acc: 0.7849 - val_loss: 0.2837 - val_acc: 0.8042\n",
      "Epoch 8/200\n",
      "687292/687292 [==============================] - 50s - loss: 0.2701 - acc: 0.7924 - val_loss: 0.2803 - val_acc: 0.8113\n",
      "Epoch 9/200\n",
      "687292/687292 [==============================] - 51s - loss: 0.2634 - acc: 0.7990 - val_loss: 0.2760 - val_acc: 0.8149\n",
      "Epoch 10/200\n",
      "687292/687292 [==============================] - 51s - loss: 0.2575 - acc: 0.8046 - val_loss: 0.2755 - val_acc: 0.8180\n",
      "Epoch 11/200\n",
      "687292/687292 [==============================] - 51s - loss: 0.2519 - acc: 0.8100 - val_loss: 0.2747 - val_acc: 0.8205\n",
      "Epoch 12/200\n",
      "687292/687292 [==============================] - 51s - loss: 0.2472 - acc: 0.8142 - val_loss: 0.2700 - val_acc: 0.8189\n",
      "Epoch 13/200\n",
      "687292/687292 [==============================] - 50s - loss: 0.2426 - acc: 0.8190 - val_loss: 0.2761 - val_acc: 0.8228\n",
      "Epoch 14/200\n",
      "687292/687292 [==============================] - 50s - loss: 0.2389 - acc: 0.8223 - val_loss: 0.2691 - val_acc: 0.8242\n",
      "Epoch 15/200\n",
      "687292/687292 [==============================] - 50s - loss: 0.2352 - acc: 0.8258 - val_loss: 0.2730 - val_acc: 0.8278\n",
      "Epoch 16/200\n",
      "687292/687292 [==============================] - 50s - loss: 0.2319 - acc: 0.8292 - val_loss: 0.2750 - val_acc: 0.8324\n",
      "Epoch 17/200\n",
      "687292/687292 [==============================] - 51s - loss: 0.2289 - acc: 0.8317 - val_loss: 0.2668 - val_acc: 0.8243\n",
      "Epoch 18/200\n",
      "687292/687292 [==============================] - 50s - loss: 0.2259 - acc: 0.8340 - val_loss: 0.2796 - val_acc: 0.8303\n",
      "Epoch 19/200\n",
      "687292/687292 [==============================] - 50s - loss: 0.2238 - acc: 0.8363 - val_loss: 0.2683 - val_acc: 0.8266\n",
      "Epoch 20/200\n",
      "687292/687292 [==============================] - 50s - loss: 0.2210 - acc: 0.8389 - val_loss: 0.2649 - val_acc: 0.8282\n",
      "Epoch 21/200\n",
      "687292/687292 [==============================] - 50s - loss: 0.2192 - acc: 0.8407 - val_loss: 0.2667 - val_acc: 0.8306\n",
      "Epoch 22/200\n",
      "687292/687292 [==============================] - 50s - loss: 0.2165 - acc: 0.8431 - val_loss: 0.2752 - val_acc: 0.8339\n",
      "Epoch 23/200\n",
      "687292/687292 [==============================] - 50s - loss: 0.2148 - acc: 0.8444 - val_loss: 0.2753 - val_acc: 0.8335\n",
      "Epoch 24/200\n",
      "687292/687292 [==============================] - 50s - loss: 0.2132 - acc: 0.8455 - val_loss: 0.2653 - val_acc: 0.8298\n"
     ]
    }
   ],
   "source": [
    "hist = model.fit(\\\n",
    "                 [data_1_train, data_2_train], \\\n",
    "                 labels_train, \\\n",
    "                 validation_data=([data_1_val, data_2_val], labels_val, weight_val), \\\n",
    "                 epochs=200, \\\n",
    "                 batch_size=2048, \\\n",
    "                 shuffle=True, \\\n",
    "                 class_weight=class_weight, \\\n",
    "                 callbacks=[early_stopping, model_checkpoint] \\\n",
    "                )"
   ]
  },
  {
   "cell_type": "code",
   "execution_count": 22,
   "metadata": {
    "collapsed": true
   },
   "outputs": [],
   "source": [
    "model.load_weights(bst_model_path)\n",
    "bst_val_score = min(hist.history['val_loss'])"
   ]
  },
  {
   "cell_type": "code",
   "execution_count": 23,
   "metadata": {
    "collapsed": false
   },
   "outputs": [
    {
     "name": "stdout",
     "output_type": "stream",
     "text": [
      "Making submission file...\n",
      "1564672/1566062 [============================>.] - ETA: 0s"
     ]
    }
   ],
   "source": [
    "print('Making submission file...')\n",
    "\n",
    "preds = model.predict([test_data_1, test_data_2], batch_size=8192, verbose=1)\n",
    "preds += model.predict([test_data_2, test_data_1], batch_size=8192, verbose=1)\n",
    "preds /= 2\n",
    "\n",
    "submission = pd.DataFrame({'test_id':test_ids, 'is_duplicate':preds.ravel()})\n",
    "submission.to_csv('%.4f_'%(bst_val_score) + STAMP + '.csv', index=False)"
   ]
  },
  {
   "cell_type": "code",
   "execution_count": 42,
   "metadata": {
    "collapsed": false
   },
   "outputs": [
    {
     "data": {
      "text/plain": [
       "<matplotlib.legend.Legend at 0x7f269fc55510>"
      ]
     },
     "execution_count": 42,
     "metadata": {},
     "output_type": "execute_result"
    },
    {
     "data": {
      "image/png": "[encoded data removed]",
      "text/plain": [
       "<matplotlib.figure.Figure at 0x7f269fdd0250>"
      ]
     },
     "metadata": {},
     "output_type": "display_data"
    }
   ],
   "source": [
    "%matplotlib inline\n",
    "\n",
    "import matplotlib\n",
    "import numpy as np\n",
    "import matplotlib.pyplot as plt\n",
    "\n",
    "plt.rcParams['figure.figsize'] = 16, 8\n",
    "plt.plot(hist.history['loss'], label='training')\n",
    "plt.plot(hist.history['val_loss'], label='validation')\n",
    "plt.xlabel('Num. of Epochs')\n",
    "plt.ylabel('binary_crossentropy Loss')\n",
    "plt.title('Loss vs Epochs')\n",
    "plt.legend()"
   ]
  },
  {
   "cell_type": "code",
   "execution_count": null,
   "metadata": {
    "collapsed": true
   },
   "outputs": [],
   "source": []
  }
 ],
 "metadata": {
  "kernelspec": {
   "display_name": "Python 2",
   "language": "python",
   "name": "python2"
  },
  "language_info": {
   "codemirror_mode": {
    "name": "ipython",
    "version": 2
   },
   "file_extension": ".py",
   "mimetype": "text/x-python",
   "name": "python",
   "nbconvert_exporter": "python",
   "pygments_lexer": "ipython2",
   "version": "2.7.10"
  }
 },
 "nbformat": 4,
 "nbformat_minor": 2
}
